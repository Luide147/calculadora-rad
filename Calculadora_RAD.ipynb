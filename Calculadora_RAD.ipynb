{
  "nbformat": 4,
  "nbformat_minor": 0,
  "metadata": {
    "colab": {
      "provenance": [],
      "collapsed_sections": [],
      "authorship_tag": "ABX9TyMsqsQ1b5URO9+qSwbr07/b",
      "include_colab_link": true
    },
    "kernelspec": {
      "name": "python3",
      "display_name": "Python 3"
    },
    "language_info": {
      "name": "python"
    }
  },
  "cells": [
    {
      "cell_type": "markdown",
      "metadata": {
        "id": "view-in-github",
        "colab_type": "text"
      },
      "source": [
        "<a href=\"https://colab.research.google.com/github/Luide147/calculadora-rad/blob/main/Calculadora_RAD.ipynb\" target=\"_parent\"><img src=\"https://colab.research.google.com/assets/colab-badge.svg\" alt=\"Open In Colab\"/></a>"
      ]
    },
    {
      "cell_type": "code",
      "execution_count": 1,
      "metadata": {
        "colab": {
          "base_uri": "https://localhost:8080/"
        },
        "id": "hd3HotnHMz_b",
        "outputId": "b3b6ea2a-c08b-4c0b-c127-afd33064beba"
      },
      "outputs": [
        {
          "output_type": "stream",
          "name": "stdout",
          "text": [
            "Bem vindo!!\n",
            "-------‐------------------------------------------------------------\n",
            "qual a constante da máquina de 20 a 30?20\n",
            "qual a espessura da área a estudar ?30\n",
            "-------‐------------------------------------------------------------\n",
            "o kv em média é: 80\n",
            "-------‐------------------------------------------------------------\n",
            "Região radiografica\t\tUnidade de medida de absorção\n",
            "osso:\t\t\t\t\t\t\t0.5\n",
            "extremidades:\t\t\t\t\t\t0.1\n",
            "pulmao:\t\t\t\t\t\t\t0.1\n",
            "sistema digestivo:\t\t\t\t\t0.3\n",
            "sistema urinário:\t\t\t\t\t0.3\n",
            "partes moles:\t\t\t\t\t\t0.01\n",
            "-------‐------------------------------------------------------------\n",
            "digite o número que corresponde a área de estudo?0.1\n",
            "-------‐------------------------------------------------------------\n",
            "O MAs em média para esta estrurura é: 8,0\n",
            "-------‐------------------------------------------------------------\n",
            "LEMBRE-SE, EM EXTREMIDADES O VALOR DO MA EM MÉDIA É 100 MA\n",
            "EM DEMAIS ÁREAS SE UTILIZA EM MÉDIA 200 MA\n",
            "-------‐------------------------------------------------------------\n"
          ]
        }
      ],
      "source": [
        "print ('Bem vindo!!')\n",
        "print('-------------------------------------------------------------------')\n",
        "const=int(input('qual a constante da máquina de 20 a 30?'))\n",
        "espessura=int(input('qual a espessura da área a estudar ?'))\n",
        "soma1=espessura+espessura\n",
        "soma2=soma1+const\n",
        "print('-------------------------------------------------------------------')\n",
        "print('o kv em média é:',soma2)\n",
        "print('-------------------------------------------------------------------')\n",
        "print('Região radiografica\\t\\tUnidade de medida de absorção')\n",
        "print('%s:\\t\\t\\t\\t\\t\\t\\t%s'%('osso', 0.5))\n",
        "print('%s:\\t\\t\\t\\t\\t\\t%s'%('extremidades',0.1))\n",
        "print('%s:\\t\\t\\t\\t\\t\\t\\t%s'%('pulmao',0.1))\n",
        "print('%s:\\t\\t\\t\\t\\t%s'%('sistema digestivo',0.3))\n",
        "print('%s:\\t\\t\\t\\t\\t%s'%('sistema urinário',0.3))\n",
        "print('%s:\\t\\t\\t\\t\\t\\t%s'%('partes moles',0.01))\n",
        "print('-------------------------------------------------------------------')\n",
        "ma=float(input('digite o número que corresponde a área de estudo?'))\n",
        "soma3=ma*soma2\n",
        "soma3=str(soma3).replace('.',',') # transforma ponto em vírgula \n",
        "print('-------------------------------------------------------------------')\n",
        "print('O MAs em média para esta estrurura é:',soma3,)\n",
        "print('-------------------------------------------------------------------')\n",
        "print('LEMBRE-SE, EM EXTREMIDADES O VALOR DO MA EM MÉDIA É 100 MA')\n",
        "print('EM DEMAIS ÁREAS SE UTILIZA EM MÉDIA 200 MA')\n",
        "print('-------------------------------------------------------------------')"
      ]
    }
  ]
}